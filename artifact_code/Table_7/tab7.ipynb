{
 "cells": [
  {
   "cell_type": "code",
   "execution_count": 1,
   "metadata": {},
   "outputs": [],
   "source": [
    "import pandas as pd\n",
    "import os"
   ]
  },
  {
   "cell_type": "code",
   "execution_count": 2,
   "metadata": {},
   "outputs": [],
   "source": [
    "old_dir = os.getcwd()\n",
    "os.chdir('..')\n",
    "os.chdir('..')\n",
    "\n",
    "# WARNING; takes ~1.5min\n",
    "ledger_len = pd.read_csv( 'data/ledger_len.csv', low_memory=False )\n",
    "\n",
    "os.chdir( old_dir )"
   ]
  },
  {
   "cell_type": "code",
   "execution_count": 44,
   "metadata": {},
   "outputs": [],
   "source": [
    "var_names = { 'Anxiety': 'Anxiety', 'Numeracy': 'Numeracy',\n",
    "            'SubjectiveLit': 'Literacy', 'TrustPhys': 'Trust' }\n",
    "\n",
    "split_names = { 'train-None': 'Train-Rand.', 'train-Constant': 'Train-Hard',\n",
    "            'val': 'Val.', 'test': 'Test' }\n",
    "\n",
    "# simple count of IDs in each task - split\n",
    "gdf = ledger_len.pivot_table(index='score_var', columns='split_full',\n",
    "                            values='ID', aggfunc='nunique')\n",
    "gdf.columns = list([ split_names[c] for c in gdf.columns ])\n",
    "gdf.index = [ var_names[c] for c in gdf.index ]\n",
    "gdf = gdf[[ c for c in split_names.values() ]]\n",
    "\n",
    "gdf.to_latex( 'data_splits_v2.tex' )"
   ]
  },
  {
   "cell_type": "code",
   "execution_count": null,
   "metadata": {},
   "outputs": [],
   "source": []
  }
 ],
 "metadata": {
  "kernelspec": {
   "display_name": "muadib2",
   "language": "python",
   "name": "python3"
  },
  "language_info": {
   "codemirror_mode": {
    "name": "ipython",
    "version": 3
   },
   "file_extension": ".py",
   "mimetype": "text/x-python",
   "name": "python",
   "nbconvert_exporter": "python",
   "pygments_lexer": "ipython3",
   "version": "3.10.6"
  }
 },
 "nbformat": 4,
 "nbformat_minor": 2
}
