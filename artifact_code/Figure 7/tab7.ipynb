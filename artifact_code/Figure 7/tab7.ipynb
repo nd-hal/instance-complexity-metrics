{
 "cells": [
  {
   "cell_type": "code",
   "execution_count": 1,
   "metadata": {},
   "outputs": [],
   "source": [
    "import pandas as pd\n",
    "pd.set_option('display.max_columns', None)\n",
    "pd.options.mode.chained_assignment = None\n",
    "import numpy as np\n",
    "\n",
    "import os"
   ]
  },
  {
   "cell_type": "code",
   "execution_count": 2,
   "metadata": {},
   "outputs": [],
   "source": [
    "this_dir = os.getcwd()\n",
    "os.chdir('..')\n",
    "test_perform_full = pd.read_csv( 'data/test_perform_full.csv' )\n",
    "os.chdir(this_dir)"
   ]
  },
  {
   "cell_type": "code",
   "execution_count": 3,
   "metadata": {},
   "outputs": [],
   "source": [
    "def pretty_round_df(df, length):\n",
    "    for cdx in range(len(df.columns)):\n",
    "        ssplit = df.iloc[:, cdx].astype(str).str.split('.')\n",
    "        if len(ssplit[0]) == 1:\n",
    "            continue\n",
    "        df.iloc[:, cdx] = [e[0] + '.' + e[1][:2] if len(e[1])>length\n",
    "                   else e[0] + '.' + e[1].ljust(length, '0') for e in ssplit]\n",
    "\n",
    "    return df\n",
    "\n",
    "def get_formatted_index(df):\n",
    "    sv_d = {\n",
    "        'SubjectiveLit': 'Literacy',\n",
    "        'TrustPhys': 'Trust',\n",
    "        'wer': 'Depression'\n",
    "    }\n",
    "    mod_d = {\n",
    "        'roberta': 'RoBERTa'\n",
    "    }\n",
    "    \n",
    "    new_index = []\n",
    "    for t in df.index:\n",
    "        new_t = list(t)\n",
    "        if t[0] in sv_d:\n",
    "            new_t[0] = sv_d[t[0]]\n",
    "        if t[1] in mod_d:\n",
    "            new_t[1] = mod_d[t[1]]\n",
    "        else:\n",
    "            new_t[1] = t[1].upper()\n",
    "        \n",
    "        new_index.append(tuple(new_t))\n",
    "    return pd.MultiIndex.from_tuples( new_index )\n",
    "\n"
   ]
  },
  {
   "cell_type": "code",
   "execution_count": 5,
   "metadata": {},
   "outputs": [
    {
     "name": "stderr",
     "output_type": "stream",
     "text": [
      "/var/folders/7y/prwzx0bj5_348vgrl_yv9c9w0000gn/T/ipykernel_52032/2921095122.py:6: FutureWarning: The default of observed=False is deprecated and will be changed to True in a future version of pandas. Pass observed=False to retain current behavior or observed=True to adopt the future default and silence this warning.\n",
      "  res_df = test_perform_full.groupby(['score_var', 'model_type_ord'])[ perform_cols ].max()\n",
      "/var/folders/7y/prwzx0bj5_348vgrl_yv9c9w0000gn/T/ipykernel_52032/2812878845.py:4: FutureWarning: Series.__getitem__ treating keys as positions is deprecated. In a future version, integer keys will always be treated as labels (consistent with DataFrame behavior). To access a value by position, use `ser.iloc[pos]`\n",
      "  if len(ssplit[0]) == 1:\n",
      "/var/folders/7y/prwzx0bj5_348vgrl_yv9c9w0000gn/T/ipykernel_52032/2812878845.py:6: FutureWarning: Setting an item of incompatible dtype is deprecated and will raise in a future error of pandas. Value '['60.27', '63.02', '65.70', '70.71', '71.18', '67.84', '71.00', '69.96', '75.92', '76.08', '74.10', '74.97', '75.99', '79.16', '79.48', '78.73', '76.49', '78.75', '84.04', '84.69', '52.37', '54.48', '56.06', '55.15', '59.30']' has dtype incompatible with float64, please explicitly cast to a compatible dtype first.\n",
      "  df.iloc[:, cdx] = [e[0] + '.' + e[1][:2] if len(e[1])>length\n",
      "/var/folders/7y/prwzx0bj5_348vgrl_yv9c9w0000gn/T/ipykernel_52032/2812878845.py:4: FutureWarning: Series.__getitem__ treating keys as positions is deprecated. In a future version, integer keys will always be treated as labels (consistent with DataFrame behavior). To access a value by position, use `ser.iloc[pos]`\n",
      "  if len(ssplit[0]) == 1:\n",
      "/var/folders/7y/prwzx0bj5_348vgrl_yv9c9w0000gn/T/ipykernel_52032/2812878845.py:6: FutureWarning: Setting an item of incompatible dtype is deprecated and will raise in a future error of pandas. Value '['56.37', '59.05', '61.08', '65.37', '65.85', '63.89', '62.77', '64.60', '68.31', '68.37', '67.48', '68.66', '69.90', '72.01', '70.31', '72.10', '70.45', '72.27', '76.63', '76.33', '56.00', '55.80', '56.00', '55.60', '56.59']' has dtype incompatible with float64, please explicitly cast to a compatible dtype first.\n",
      "  df.iloc[:, cdx] = [e[0] + '.' + e[1][:2] if len(e[1])>length\n",
      "/var/folders/7y/prwzx0bj5_348vgrl_yv9c9w0000gn/T/ipykernel_52032/2812878845.py:4: FutureWarning: Series.__getitem__ treating keys as positions is deprecated. In a future version, integer keys will always be treated as labels (consistent with DataFrame behavior). To access a value by position, use `ser.iloc[pos]`\n",
      "  if len(ssplit[0]) == 1:\n",
      "/var/folders/7y/prwzx0bj5_348vgrl_yv9c9w0000gn/T/ipykernel_52032/2812878845.py:6: FutureWarning: Setting an item of incompatible dtype is deprecated and will raise in a future error of pandas. Value '['66.91', '60.52', '67.21', '67.11', '70.30', '63.82', '54.11', '64.48', '68.35', '69.54', '71.61', '70.85', '71.77', '73.07', '74.36', '70.31', '66.06', '69.63', '73.55', '75.27', '71.42', '71.46', '70.58', '71.46', '62.52']' has dtype incompatible with float64, please explicitly cast to a compatible dtype first.\n",
      "  df.iloc[:, cdx] = [e[0] + '.' + e[1][:2] if len(e[1])>length\n",
      "/var/folders/7y/prwzx0bj5_348vgrl_yv9c9w0000gn/T/ipykernel_52032/2812878845.py:4: FutureWarning: Series.__getitem__ treating keys as positions is deprecated. In a future version, integer keys will always be treated as labels (consistent with DataFrame behavior). To access a value by position, use `ser.iloc[pos]`\n",
      "  if len(ssplit[0]) == 1:\n",
      "/var/folders/7y/prwzx0bj5_348vgrl_yv9c9w0000gn/T/ipykernel_52032/2812878845.py:6: FutureWarning: Setting an item of incompatible dtype is deprecated and will raise in a future error of pandas. Value '['1.58', '1.93', '2.29', '2.86', '2.83', '2.90', '3.32', '3.58', '4.19', '4.10', '2.96', '3.23', '3.48', '3.70', '3.81', '4.00', '3.67', '4.20', '5.39', '5.45', '1.16', '1.06', '1.30', '0.84', '1.12']' has dtype incompatible with float64, please explicitly cast to a compatible dtype first.\n",
      "  df.iloc[:, cdx] = [e[0] + '.' + e[1][:2] if len(e[1])>length\n"
     ]
    }
   ],
   "source": [
    "perform_cols = ['test_auc', 'test_acc', 'test_f1', 'irt_ability']\n",
    "\n",
    "# order model_type\n",
    "test_perform_full['model_type_ord'] = pd.Categorical( test_perform_full['model_type'], ['ffn', 'cnn', 'lstm', 'bert', 'roberta'] )\n",
    "\n",
    "res_df = test_perform_full.groupby(['score_var', 'model_type_ord'])[ perform_cols ].max()\n",
    "\n",
    "\n",
    "for c in perform_cols:\n",
    "    if 'irt' not in c:\n",
    "        res_df[c] = 100*res_df[c]\n",
    "        \n",
    "res_df = res_df.rename(columns={\n",
    "    'test_auc': 'AUC', 'test_acc': 'Acc.',\n",
    "    'test_f1': 'F1 Score', 'irt_ability': 'IRT Ability'})\n",
    "\n",
    "res_df.index = get_formatted_index(res_df)\n",
    "\n",
    "\n",
    "pretty_round_df( res_df, 2 ).to_latex( 'results_by_model_type_v2.tex' )"
   ]
  },
  {
   "cell_type": "code",
   "execution_count": null,
   "metadata": {},
   "outputs": [],
   "source": []
  }
 ],
 "metadata": {
  "kernelspec": {
   "display_name": "muadib2",
   "language": "python",
   "name": "python3"
  },
  "language_info": {
   "codemirror_mode": {
    "name": "ipython",
    "version": 3
   },
   "file_extension": ".py",
   "mimetype": "text/x-python",
   "name": "python",
   "nbconvert_exporter": "python",
   "pygments_lexer": "ipython3",
   "version": "3.10.6"
  }
 },
 "nbformat": 4,
 "nbformat_minor": 2
}
