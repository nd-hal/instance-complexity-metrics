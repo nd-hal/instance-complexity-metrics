{
 "cells": [
  {
   "cell_type": "code",
   "execution_count": 1,
   "metadata": {},
   "outputs": [],
   "source": [
    "import pandas as pd\n",
    "pd.set_option('display.max_columns', None)\n",
    "pd.options.mode.chained_assignment = None\n",
    "import numpy as np\n",
    "\n",
    "import os"
   ]
  },
  {
   "cell_type": "code",
   "execution_count": 2,
   "metadata": {},
   "outputs": [],
   "source": [
    "this_dir = os.getcwd()\n",
    "os.chdir('..')\n",
    "model_diff = pd.read_csv( 'data/model_diff.csv' )\n",
    "# bug where 'None' strategy (i.e., a string) loaded as None/NaN\n",
    "model_diff['strat'] = model_diff['strat'].fillna('None')\n",
    "\n",
    "from utils.data_processing import *\n",
    "\n",
    "os.chdir(this_dir)"
   ]
  },
  {
   "cell_type": "code",
   "execution_count": 3,
   "metadata": {},
   "outputs": [],
   "source": [
    "comp_cols = [ 'boundary_prox', 'losses', 'pvi', 'times_forgotten', 'instance_hardness', 'irt_difficulty', 'tok_len' ]\n",
    "\n",
    "\n",
    "# loops through tasks (i.e., score variables / \"svars\") and add Spearman Correlations with CIs\n",
    "for svar in model_diff['score_var'].unique():\n",
    "    comp_cols = [ 'boundary_prox', 'losses', 'pvi', 'times_forgotten', 'instance_hardness', 'irt_difficulty', 'tok_len' ]\n",
    "\n",
    "    # micro-correlation calculation\n",
    "    model_cormat_wer = create_cormat(model_diff[model_diff['score_var']==svar], comp_cols)\n",
    "\n",
    "    # micro-average is all at once\n",
    "    micro_gdf_wer = calculate_micro_avg(model_cormat_wer, comp_cols)\n",
    "\n",
    "\n",
    "    # format into dataframe\n",
    "    micro_corr_df_wer = create_agg_corr_df(micro_gdf_wer, comp_cols)\n",
    "\n",
    "    # add confidence intervals\n",
    "    z = 1.96\n",
    "    micro_corr_df_wer['ci_low'] = micro_corr_df_wer['mean_scorr'] - z*( micro_corr_df_wer['std_scorr'] / np.sqrt(micro_corr_df_wer['count_models']) )\n",
    "    micro_corr_df_wer['ci_high'] = micro_corr_df_wer['mean_scorr'] + z*( micro_corr_df_wer['std_scorr'] / np.sqrt(micro_corr_df_wer['count_models']) )\n",
    "\n",
    "\n",
    "    # write each dataframe to a folder for later access in R plots\n",
    "    this_dir = os.getcwd()\n",
    "    os.chdir('..')\n",
    "    micro_corr_df_wer.to_csv( f'data/corr_by_svar/micro_corr_df-for_{svar}.csv', index=False )\n",
    "    os.chdir(this_dir)\n",
    "\n"
   ]
  },
  {
   "cell_type": "code",
   "execution_count": null,
   "metadata": {},
   "outputs": [],
   "source": []
  }
 ],
 "metadata": {
  "kernelspec": {
   "display_name": "muadib2",
   "language": "python",
   "name": "python3"
  },
  "language_info": {
   "codemirror_mode": {
    "name": "ipython",
    "version": 3
   },
   "file_extension": ".py",
   "mimetype": "text/x-python",
   "name": "python",
   "nbconvert_exporter": "python",
   "pygments_lexer": "ipython3",
   "version": "3.10.6"
  }
 },
 "nbformat": 4,
 "nbformat_minor": 2
}
