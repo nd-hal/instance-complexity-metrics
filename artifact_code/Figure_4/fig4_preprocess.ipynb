{
 "cells": [
  {
   "cell_type": "code",
   "execution_count": 1,
   "metadata": {},
   "outputs": [],
   "source": [
    "import pandas as pd\n",
    "pd.set_option('display.max_columns', None)\n",
    "pd.options.mode.chained_assignment = None\n",
    "import numpy as np\n",
    "\n",
    "import matplotlib.pyplot as plt\n",
    "import seaborn as sns\n",
    "\n",
    "import os"
   ]
  },
  {
   "cell_type": "code",
   "execution_count": 2,
   "metadata": {},
   "outputs": [],
   "source": [
    "this_dir = os.getcwd()\n",
    "os.chdir('..')\n",
    "test_perform_full = pd.read_csv( 'data/test_perform_full.csv' )\n",
    "# issue with reading 'None' string as None/NaN datatype\n",
    "test_perform_full['strat'] = test_perform_full['strat'].fillna('None')\n",
    "os.chdir(this_dir)"
   ]
  },
  {
   "cell_type": "code",
   "execution_count": 3,
   "metadata": {},
   "outputs": [],
   "source": [
    "# initialize column names\n",
    "id_cols = ['model_name', 'model_type', 'score_var', 'strat', 'best_epoch']\n",
    "perform_cols = [ 'test_acc', 'test_auc', 'test_f1', 'irt_ability' ]\n",
    "di_cols = [ c for c in test_perform_full if '|DI' in c ]\n",
    "\n",
    "\n",
    "# aggregate across models\n",
    "di_gdf = test_perform_full.groupby(['score_var', 'strat'])[di_cols].agg(['mean', 'var'])\n",
    "di_gdf.columns = [ '_'.join(t) for t in di_gdf.columns ]\n",
    "\n",
    "# add \\alpha=0.05 confidence intervals\n",
    "z = 1.96\n",
    "num_models = 22     # since performance from 22 trained models\n",
    "for c in di_cols:\n",
    "    # \n",
    "    this_sem = (di_gdf[c+'_var'])**0.5 / np.sqrt( num_models )\n",
    "\n",
    "    di_gdf[c+'_cilow'] = di_gdf[c+'_mean'] - z*this_sem\n",
    "    di_gdf[c+'_cihigh'] = di_gdf[c+'_mean'] + z*this_sem\n"
   ]
  },
  {
   "cell_type": "code",
   "execution_count": 4,
   "metadata": {},
   "outputs": [],
   "source": [
    "sv_d = {\n",
    "    'Anxiety': 'Anxiety',\n",
    "    'Numeracy': 'Numeracy',\n",
    "    'SubjectiveLit': 'Literacy',\n",
    "    'TrustPhys': 'Trust',\n",
    "    'wer': 'Depression'\n",
    "    }\n",
    "\n",
    "\n",
    "demo_d = {\n",
    "    'Sex|DI': 'Sex',\n",
    "    'Age_Senior|DI': 'Age',\n",
    "    'Race_POC|DI': 'Race',\n",
    "    'Education_Low|DI': 'Educ.',\n",
    "    'Income_Low|DI': 'Inc.',\n",
    "    'ESL|DI': 'ESL',\n",
    "}\n",
    "\n",
    "\n",
    "# format for long output\n",
    "out_di_df = pd.DataFrame()\n",
    "for svar in test_perform_full['score_var'].unique():\n",
    "\n",
    "    rand_row = di_gdf.loc[(svar, 'None'), :]\n",
    "    hard_row = di_gdf.loc[(svar, 'Constant'), :]\n",
    "\n",
    "    for demo in di_cols:\n",
    "\n",
    "        rand_low, rand_high = rand_row[demo+\"_cilow\"], rand_row[demo+\"_cihigh\"]\n",
    "        hard_low, hard_high = hard_row[demo+\"_cilow\"], hard_row[demo+\"_cihigh\"]\n",
    "\n",
    "        rand_low, rand_high = f'{rand_low:.4f}', f'{rand_high:.4f}', \n",
    "        hard_low, hard_high = f'{hard_low:.4f}', f'{hard_high:.4f}', \n",
    "\n",
    "        new_row = pd.DataFrame.from_dict([{\n",
    "            'Task': sv_d[svar], 'Demographic': demo_d[demo],\n",
    "            'Random_Low': rand_low,\n",
    "            'Random_High': rand_high,\n",
    "            'Hard_Low': hard_low,\n",
    "            'Hard_High': hard_high\n",
    "        }])\n",
    "\n",
    "        out_di_df = pd.concat([ out_di_df, new_row ])\n",
    "\n",
    "out_di_df = out_di_df.set_index(['Task', 'Demographic'])\n",
    "out_di_df = out_di_df.reset_index()\n",
    "\n",
    "this_dir = os.getcwd()\n",
    "os.chdir('..')\n",
    "out_di_df.to_csv( 'data/disp_impact_table.csv', index=False )\n",
    "os.chdir(this_dir)"
   ]
  },
  {
   "cell_type": "code",
   "execution_count": null,
   "metadata": {},
   "outputs": [],
   "source": []
  }
 ],
 "metadata": {
  "kernelspec": {
   "display_name": "muadib2",
   "language": "python",
   "name": "python3"
  },
  "language_info": {
   "codemirror_mode": {
    "name": "ipython",
    "version": 3
   },
   "file_extension": ".py",
   "mimetype": "text/x-python",
   "name": "python",
   "nbconvert_exporter": "python",
   "pygments_lexer": "ipython3",
   "version": "3.10.6"
  }
 },
 "nbformat": 4,
 "nbformat_minor": 2
}
